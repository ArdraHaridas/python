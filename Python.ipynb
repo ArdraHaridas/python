{
  "nbformat": 4,
  "nbformat_minor": 0,
  "metadata": {
    "colab": {
      "name": "Python.ipynb",
      "provenance": [],
      "collapsed_sections": [],
      "authorship_tag": "ABX9TyPAGPX5mD5NkgE1CgAKK6jE",
      "include_colab_link": true
    },
    "kernelspec": {
      "name": "python3",
      "display_name": "Python 3"
    },
    "language_info": {
      "name": "python"
    }
  },
  "cells": [
    {
      "cell_type": "markdown",
      "metadata": {
        "id": "view-in-github",
        "colab_type": "text"
      },
      "source": [
        "<a href=\"https://colab.research.google.com/github/ArdraHaridas/python/blob/new/Python.ipynb\" target=\"_parent\"><img src=\"https://colab.research.google.com/assets/colab-badge.svg\" alt=\"Open In Colab\"/></a>"
      ]
    },
    {
      "cell_type": "code",
      "metadata": {
        "colab": {
          "base_uri": "https://localhost:8080/"
        },
        "id": "sQEqtz1LvQBx",
        "outputId": "b482479c-bf15-4822-8204-c73a23fe9fc5"
      },
      "source": [
        "def add(x, y):\n",
        "    return x + y\n",
        "def subtract(x, y):\n",
        "    return x - y\n",
        "def multiply(x, y):\n",
        "    return x * y\n",
        "def divide(x, y):\n",
        "    return x / y\n",
        "print(\"Select operation :\") \n",
        "print(\"1.Addition\") \n",
        "print(\"2.Subtraction \") \n",
        "print(\"3.Multiplication\") \n",
        "print(\"4.Division\") \n",
        "while True:\n",
        "   choice = input(\" Enter choice(1/2/3/4) :\") \n",
        "   if choice in('1', '2', '3', '4') :\n",
        "      num1 = float(input(\"Enter the first number:\")) \n",
        "      num2 = float(input(\"Enter the second number:\")) \n",
        "      if choice == '1':\n",
        "          print(num1, \"+\", num2, \"=\", add(num1, num2)) \n",
        "      elif choice == '2':\n",
        "          print(num1, \"-\", num2, \"=\", subtract(num1, num2))\n",
        "      elif choice == '3':\n",
        "          print(num1, \"*\", num2, \"=\", multiply(num1, num2)) \n",
        "      elif choice == '4':\n",
        "          print(num1, \"/\", num2, \"=\", divide(num1, num2)) \n",
        "      nextcalculation = input(\" Do you want next calculation? (yes/no) :\") \n",
        "      if nextcalculation == \"no\":\n",
        "         break\n",
        "      else:\n",
        "         print (\"Invalid Input\")"
      ],
      "execution_count": null,
      "outputs": [
        {
          "name": "stdout",
          "output_type": "stream",
          "text": [
            "Select operation :\n",
            "1.Addition\n",
            "2.Subtraction \n",
            "3.Multiplication\n",
            "4.Division\n",
            " Enter choice(1/2/3/4) :1\n",
            "Enter the first number:2\n",
            "Enter the second number:3\n",
            "2.0 + 3.0 = 5.0\n",
            " Do you want next calculation? (yes/no) :yes\n",
            "Invalid Input\n",
            " Enter choice(1/2/3/4) :2\n",
            "Enter the first number:2\n",
            "Enter the second number:3\n",
            "2.0 - 3.0 = -1.0\n",
            " Do you want next calculation? (yes/no) :yes\n",
            "Invalid Input\n",
            " Enter choice(1/2/3/4) :3\n",
            "Enter the first number:2\n",
            "Enter the second number:3\n",
            "2.0 * 3.0 = 6.0\n",
            " Do you want next calculation? (yes/no) :yes\n",
            "Invalid Input\n",
            " Enter choice(1/2/3/4) :4\n",
            "Enter the first number:3\n",
            "Enter the second number:2\n",
            "3.0 / 2.0 = 1.5\n",
            " Do you want next calculation? (yes/no) :yes\n",
            "Invalid Input\n",
            " Enter choice(1/2/3/4) :5\n",
            " Enter choice(1/2/3/4) :4\n",
            "Enter the first number:0\n",
            "Enter the second number:1\n",
            "0.0 / 1.0 = 0.0\n",
            " Do you want next calculation? (yes/no) :no\n"
          ]
        }
      ]
    },
    {
      "cell_type": "code",
      "metadata": {
        "id": "W8cZygukvNZL"
      },
      "source": [
        ""
      ],
      "execution_count": null,
      "outputs": []
    }
  ]
}